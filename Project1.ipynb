{
 "cells": [
  {
   "cell_type": "markdown",
   "metadata": {},
   "source": [
    "Project 1\n",
    "Problem statement:\n",
    "Determine  which  free-tier  customers  will  covert  to  paying  customers,  using  demographic  data collected at signup (age, gender, location, and profession) and customer usage data (days since last log in, and activity score 1 = active user, 0= inactive user) based on Hooli data from Jan - Apr 2015.\n",
    "\n",
    "1. What is the outcome?\n",
    "Answer: Determine which free-tier customers will convert to paying customers.\n",
    "2. What are the predictors/covariates?\n",
    "Answer: Sign-up data, and customer usage data. This includes gender, location, and profession for sign-ups, and days since last log-in, and activity score for usage data. \n",
    "3. What timeframe is this data relevent for?\n",
    "Answer: January through to April 2015.\n",
    "4. What is the hypothesis?\n",
    "Answer: The type of customer who would become fee paying can be predicted through demographic data collected at sign-up. \n",
    "\n"
   ]
  },
  {
   "cell_type": "code",
   "execution_count": 10,
   "metadata": {},
   "outputs": [
    {
     "ename": "NameError",
     "evalue": "name 'variable' is not defined",
     "output_type": "error",
     "traceback": [
      "\u001b[0;31m---------------------------------------------------------------------------\u001b[0m",
      "\u001b[0;31mNameError\u001b[0m                                 Traceback (most recent call last)",
      "\u001b[0;32m<ipython-input-10-14ca811d5afd>\u001b[0m in \u001b[0;36m<module>\u001b[0;34m()\u001b[0m\n\u001b[1;32m      1\u001b[0m \u001b[0;32mimport\u001b[0m \u001b[0mpandas\u001b[0m \u001b[0;32mas\u001b[0m \u001b[0mpd\u001b[0m\u001b[0;34m\u001b[0m\u001b[0m\n\u001b[1;32m      2\u001b[0m \u001b[0;32mimport\u001b[0m \u001b[0mnumpy\u001b[0m \u001b[0;32mas\u001b[0m \u001b[0mnp\u001b[0m\u001b[0;34m\u001b[0m\u001b[0m\n\u001b[0;32m----> 3\u001b[0;31m \u001b[0mdf\u001b[0m \u001b[0;34m=\u001b[0m \u001b[0mpd\u001b[0m\u001b[0;34m.\u001b[0m\u001b[0mDataFrame\u001b[0m\u001b[0;34m(\u001b[0m\u001b[0mnp\u001b[0m\u001b[0;34m.\u001b[0m\u001b[0mrandom\u001b[0m\u001b[0;34m.\u001b[0m\u001b[0mrandn\u001b[0m\u001b[0;34m(\u001b[0m\u001b[0;36m6\u001b[0m\u001b[0;34m,\u001b[0m\u001b[0;36m4\u001b[0m\u001b[0;34m)\u001b[0m\u001b[0;34m,\u001b[0m\u001b[0mindex\u001b[0m \u001b[0;34m=\u001b[0m \u001b[0mvariable\u001b[0m\u001b[0;34m,\u001b[0m \u001b[0mcolumns\u001b[0m \u001b[0;34m=\u001b[0m \u001b[0;34m[\u001b[0m\u001b[0;34m'Variable'\u001b[0m\u001b[0;34m,\u001b[0m\u001b[0;34m'Description'\u001b[0m\u001b[0;34m,\u001b[0m\u001b[0;34m'Type of Variable'\u001b[0m\u001b[0;34m]\u001b[0m\u001b[0;34m)\u001b[0m\u001b[0;34m\u001b[0m\u001b[0m\n\u001b[0m",
      "\u001b[0;31mNameError\u001b[0m: name 'variable' is not defined"
     ]
    }
   ],
   "source": [
    "import pandas as pd\n",
    "import numpy as np\n",
    "df = pd.DataFrame(np.random.randn(6,4),index = variable, columns = ['Variable','Description','Type of Variable'])"
   ]
  },
  {
   "cell_type": "markdown",
   "metadata": {},
   "source": [
    "\n",
    "Variable\n",
    "Description\n",
    "Type of Variable\n",
    "\n",
    "\n",
    "Var 1\n",
    "0 inactive\n",
    "1 active\n",
    "categorical\n",
    "\n",
    "\n",
    "Var 2\n",
    "age - continuous\n",
    "\n",
    "Ver 3 \n",
    "gender - categorical\n",
    "\n",
    "Var 4\n",
    "profession - categorical\n",
    "\n",
    "\n"
   ]
  },
  {
   "cell_type": "markdown",
   "metadata": {},
   "source": [
    "We would like to explore the association between X and Y\n",
    "2. What is the outcome?\n",
    "Answer:\n",
    "\n"
   ]
  },
  {
   "cell_type": "code",
   "execution_count": 2,
   "metadata": {},
   "outputs": [
    {
     "ename": "SyntaxError",
     "evalue": "invalid syntax (<ipython-input-2-8e61a6534cda>, line 1)",
     "output_type": "error",
     "traceback": [
      "\u001b[0;36m  File \u001b[0;32m\"<ipython-input-2-8e61a6534cda>\"\u001b[0;36m, line \u001b[0;32m1\u001b[0m\n\u001b[0;31m    mk dir 'projects'\u001b[0m\n\u001b[0m         ^\u001b[0m\n\u001b[0;31mSyntaxError\u001b[0m\u001b[0;31m:\u001b[0m invalid syntax\n"
     ]
    }
   ],
   "source": [
    "mk dir 'projects'\n",
    "import CSV\n",
    "With open(‘admissions.csv’, ‘rb’) as f:\n",
    "reader = csv.reader(f)\n",
    "for row in reader:\n",
    "print row"
   ]
  },
  {
   "cell_type": "markdown",
   "metadata": {},
   "source": [
    "Exploratory analysis plan\n",
    "Goals of analysis plan:\n",
    "    To determine the relationship between paying customers and demographic data provided by all customers upon sign-up\n",
    "    \n",
    "Assumptions on distribution:\n",
    "    Sample size is large enough to be representative of total customer base, large enough to be statistically accurate\n",
    "    \n",
    "How to determine distribution:\n",
    "    Histograms, box plots, python code\n",
    "    \n",
    "Effect of outliers:\n",
    "    They could distort the results one way or another \n",
    "    \n",
    "Test for outliers:\n",
    "    By running code on standard deviation, box plots, scatter charts\n",
    "    \n",
    "What is colinearity:\n",
    "    Where one variable has a direct effect on another outcome\n",
    "    \n",
    "How to test for colinearity:\n",
    "    Scatter charts\n",
    "    \n",
    "Exploratory analysis plan:\n",
    "    1) Review completeness of data - are there many/any missing values? \n",
    "    2) Review data for outliers\n",
    "    3) Test colinearity between values and outcomes\n",
    "    4) Remove outliers, re-run tests to see if outcomes change\n",
    "    5) Document outomes and processes to allow for tests to be re-run in future by others\n",
    "    \n",
    " Analysis method\n",
    " \n",
    "Predict by age, gender, profession, and then combinations of these \n",
    "Alternative problem statement: based on initial demographic data provided at sign-up, which customers are likely to remain on the free tier\n",
    "Risks and assumptions of alternative model : incomplete data, people putting in incorrect data at signup, smaller sample size, broader economic conditions at time of data capture."
   ]
  },
  {
   "cell_type": "code",
   "execution_count": 1,
   "metadata": {},
   "outputs": [
    {
     "ename": "SyntaxError",
     "evalue": "invalid syntax (<ipython-input-1-c13ca00cf434>, line 1)",
     "output_type": "error",
     "traceback": [
      "\u001b[0;36m  File \u001b[0;32m\"<ipython-input-1-c13ca00cf434>\"\u001b[0;36m, line \u001b[0;32m1\u001b[0m\n\u001b[0;31m    git remote add origin https://github.com/melburnian/ga_project_1.git\u001b[0m\n\u001b[0m             ^\u001b[0m\n\u001b[0;31mSyntaxError\u001b[0m\u001b[0;31m:\u001b[0m invalid syntax\n"
     ]
    }
   ],
   "source": [
    "git remote add origin https://github.com/melburnian/ga_project_1.git\n",
    "git push -u origin master"
   ]
  },
  {
   "cell_type": "code",
   "execution_count": null,
   "metadata": {},
   "outputs": [],
   "source": []
  }
 ],
 "metadata": {
  "kernelspec": {
   "display_name": "Python 2",
   "language": "python",
   "name": "python2"
  },
  "language_info": {
   "codemirror_mode": {
    "name": "ipython",
    "version": 2
   },
   "file_extension": ".py",
   "mimetype": "text/x-python",
   "name": "python",
   "nbconvert_exporter": "python",
   "pygments_lexer": "ipython2",
   "version": "2.7.14"
  }
 },
 "nbformat": 4,
 "nbformat_minor": 2
}
